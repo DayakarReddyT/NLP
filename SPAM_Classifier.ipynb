{
 "cells": [
  {
   "cell_type": "markdown",
   "id": "everyday-pound",
   "metadata": {},
   "source": [
    "# Spam Classification"
   ]
  },
  {
   "cell_type": "code",
   "execution_count": 1,
   "id": "surprised-workplace",
   "metadata": {},
   "outputs": [
    {
     "name": "stderr",
     "output_type": "stream",
     "text": [
      "Matplotlib is building the font cache; this may take a moment.\n"
     ]
    }
   ],
   "source": [
    "# Let's import our weapons \n",
    "\n",
    "import pandas as pd\n",
    "import numpy as np\n",
    "import matplotlib.pyplot as plt\n",
    "import seaborn as sns\n",
    "\n",
    "%matplotlib inline"
   ]
  },
  {
   "cell_type": "code",
   "execution_count": 52,
   "id": "whole-evaluation",
   "metadata": {},
   "outputs": [],
   "source": [
    "from sklearn.metrics import confusion_matrix,classification_report\n",
    "from sklearn.model_selection import train_test_split"
   ]
  },
  {
   "cell_type": "code",
   "execution_count": 2,
   "id": "acute-revolution",
   "metadata": {},
   "outputs": [],
   "source": [
    "# Let's read our data\n",
    "\n",
    "text=pd.read_csv(r\"C:\\Users\\Daya\\Desktop\\ML  Material\\NLP_Udemy\\Codes\\Spam Text Classification\\spam.tsv\",sep='\\t')"
   ]
  },
  {
   "cell_type": "code",
   "execution_count": 3,
   "id": "operational-scratch",
   "metadata": {},
   "outputs": [
    {
     "data": {
      "text/html": [
       "<div>\n",
       "<style scoped>\n",
       "    .dataframe tbody tr th:only-of-type {\n",
       "        vertical-align: middle;\n",
       "    }\n",
       "\n",
       "    .dataframe tbody tr th {\n",
       "        vertical-align: top;\n",
       "    }\n",
       "\n",
       "    .dataframe thead th {\n",
       "        text-align: right;\n",
       "    }\n",
       "</style>\n",
       "<table border=\"1\" class=\"dataframe\">\n",
       "  <thead>\n",
       "    <tr style=\"text-align: right;\">\n",
       "      <th></th>\n",
       "      <th>label</th>\n",
       "      <th>message</th>\n",
       "      <th>length</th>\n",
       "      <th>punct</th>\n",
       "    </tr>\n",
       "  </thead>\n",
       "  <tbody>\n",
       "    <tr>\n",
       "      <th>0</th>\n",
       "      <td>ham</td>\n",
       "      <td>Go until jurong point, crazy.. Available only ...</td>\n",
       "      <td>111</td>\n",
       "      <td>9</td>\n",
       "    </tr>\n",
       "    <tr>\n",
       "      <th>1</th>\n",
       "      <td>ham</td>\n",
       "      <td>Ok lar... Joking wif u oni...</td>\n",
       "      <td>29</td>\n",
       "      <td>6</td>\n",
       "    </tr>\n",
       "    <tr>\n",
       "      <th>2</th>\n",
       "      <td>spam</td>\n",
       "      <td>Free entry in 2 a wkly comp to win FA Cup fina...</td>\n",
       "      <td>155</td>\n",
       "      <td>6</td>\n",
       "    </tr>\n",
       "    <tr>\n",
       "      <th>3</th>\n",
       "      <td>ham</td>\n",
       "      <td>U dun say so early hor... U c already then say...</td>\n",
       "      <td>49</td>\n",
       "      <td>6</td>\n",
       "    </tr>\n",
       "    <tr>\n",
       "      <th>4</th>\n",
       "      <td>ham</td>\n",
       "      <td>Nah I don't think he goes to usf, he lives aro...</td>\n",
       "      <td>61</td>\n",
       "      <td>2</td>\n",
       "    </tr>\n",
       "  </tbody>\n",
       "</table>\n",
       "</div>"
      ],
      "text/plain": [
       "  label                                            message  length  punct\n",
       "0   ham  Go until jurong point, crazy.. Available only ...     111      9\n",
       "1   ham                      Ok lar... Joking wif u oni...      29      6\n",
       "2  spam  Free entry in 2 a wkly comp to win FA Cup fina...     155      6\n",
       "3   ham  U dun say so early hor... U c already then say...      49      6\n",
       "4   ham  Nah I don't think he goes to usf, he lives aro...      61      2"
      ]
     },
     "execution_count": 3,
     "metadata": {},
     "output_type": "execute_result"
    }
   ],
   "source": [
    "# How our data looks like ?\n",
    "text.head()"
   ]
  },
  {
   "cell_type": "markdown",
   "id": "conservative-honey",
   "metadata": {},
   "source": [
    "##### Let's understand what each columns says\n",
    "##### 1) Label  & Message , our In/dependent features :)\n",
    "##### 2) Length : Length of the message \n",
    "##### 3) Punt : No of punctuations in our message "
   ]
  },
  {
   "cell_type": "markdown",
   "id": "excess-emerald",
   "metadata": {},
   "source": [
    "### EDA "
   ]
  },
  {
   "cell_type": "code",
   "execution_count": 35,
   "id": "english-sympathy",
   "metadata": {},
   "outputs": [
    {
     "data": {
      "text/plain": [
       "(5572, 4)"
      ]
     },
     "execution_count": 35,
     "metadata": {},
     "output_type": "execute_result"
    }
   ],
   "source": [
    "# Shape of the data \n",
    "\n",
    "text.shape"
   ]
  },
  {
   "cell_type": "code",
   "execution_count": 39,
   "id": "sudden-delicious",
   "metadata": {},
   "outputs": [
    {
     "name": "stdout",
     "output_type": "stream",
     "text": [
      "403\n"
     ]
    }
   ],
   "source": [
    "# are there any duplicates ?\n",
    "\n",
    "print(len(text[text.duplicated()==True]))"
   ]
  },
  {
   "cell_type": "markdown",
   "id": "relative-spokesman",
   "metadata": {},
   "source": [
    "### OMG , we have to remove these duplicated entries to avoid overfitting "
   ]
  },
  {
   "cell_type": "code",
   "execution_count": 40,
   "id": "stretch-repair",
   "metadata": {},
   "outputs": [],
   "source": [
    "text=text[text.duplicated()==False]"
   ]
  },
  {
   "cell_type": "code",
   "execution_count": 41,
   "id": "minimal-currency",
   "metadata": {},
   "outputs": [
    {
     "name": "stdout",
     "output_type": "stream",
     "text": [
      "(5169, 4)\n",
      "0\n"
     ]
    }
   ],
   "source": [
    "print(text.shape)\n",
    "print(len(text[text.duplicated()==True]))"
   ]
  },
  {
   "cell_type": "code",
   "execution_count": 29,
   "id": "sunrise-crossing",
   "metadata": {},
   "outputs": [
    {
     "data": {
      "text/plain": [
       "<AxesSubplot:xlabel='length', ylabel='Count'>"
      ]
     },
     "execution_count": 29,
     "metadata": {},
     "output_type": "execute_result"
    },
    {
     "data": {
      "image/png": "[encoded data removed]",
      "text/plain": [
       "<Figure size 1080x504 with 1 Axes>"
      ]
     },
     "metadata": {
      "needs_background": "light"
     },
     "output_type": "display_data"
    }
   ],
   "source": [
    "# Message Length Vs Output \n",
    "\n",
    "plt.figure(figsize=(15,7))\n",
    "sns.histplot(data=text,x='length',hue='label')"
   ]
  },
  {
   "cell_type": "markdown",
   "id": "endless-disclaimer",
   "metadata": {},
   "source": [
    "##### Spam messages are having more length than  Ham messages "
   ]
  },
  {
   "cell_type": "code",
   "execution_count": 31,
   "id": "optimum-cancellation",
   "metadata": {},
   "outputs": [
    {
     "data": {
      "text/plain": [
       "<AxesSubplot:xlabel='punct', ylabel='Count'>"
      ]
     },
     "execution_count": 31,
     "metadata": {},
     "output_type": "execute_result"
    },
    {
     "data": {
      "image/png": "[encoded data removed]",
      "text/plain": [
       "<Figure size 1080x504 with 1 Axes>"
      ]
     },
     "metadata": {
      "needs_background": "light"
     },
     "output_type": "display_data"
    }
   ],
   "source": [
    "# Punctuation VS Output \n",
    "plt.figure(figsize=(15,7))\n",
    "sns.histplot(data=text,x='punct',hue='label')"
   ]
  },
  {
   "cell_type": "markdown",
   "id": "talented-induction",
   "metadata": {},
   "source": [
    "##### No much relation found here "
   ]
  },
  {
   "cell_type": "markdown",
   "id": "prostate-potato",
   "metadata": {},
   "source": [
    "##### Is our data is imabalanced ?"
   ]
  },
  {
   "cell_type": "code",
   "execution_count": 44,
   "id": "welcome-static",
   "metadata": {},
   "outputs": [
    {
     "data": {
      "text/plain": [
       "<AxesSubplot:xlabel='label', ylabel='count'>"
      ]
     },
     "execution_count": 44,
     "metadata": {},
     "output_type": "execute_result"
    },
    {
     "data": {
      "image/png": "[encoded data removed]",
      "text/plain": [
       "<Figure size 720x360 with 1 Axes>"
      ]
     },
     "metadata": {
      "needs_background": "light"
     },
     "output_type": "display_data"
    }
   ],
   "source": [
    "plt.figure(figsize=(10,5))\n",
    "sns.countplot(data=text,x='label')"
   ]
  },
  {
   "cell_type": "markdown",
   "id": "interim-practitioner",
   "metadata": {},
   "source": [
    "##### It doen't look good, if we train our model on this for sure our model is biased towards Ham messages, to solve this we have two methods (as of now) \n",
    "##### 1) Make Ham and Spam messages count equal \n",
    "##### 2) Train different models and take mode of the output\n",
    "##### We are going with the first one"
   ]
  },
  {
   "cell_type": "code",
   "execution_count": 48,
   "id": "desirable-preservation",
   "metadata": {},
   "outputs": [],
   "source": [
    "spam=text[text['label']=='spam']\n",
    "ham=text[text['label']=='ham'].sample(len(spam))\n",
    "\n",
    "text=ham.append(spam)\n",
    "\n",
    "text=text.reset_index(drop=True)"
   ]
  },
  {
   "cell_type": "code",
   "execution_count": 51,
   "id": "closing-crawford",
   "metadata": {},
   "outputs": [
    {
     "data": {
      "text/plain": [
       "<AxesSubplot:xlabel='label', ylabel='count'>"
      ]
     },
     "execution_count": 51,
     "metadata": {},
     "output_type": "execute_result"
    },
    {
     "data": {
      "image/png": "[encoded data removed]",
      "text/plain": [
       "<Figure size 720x360 with 1 Axes>"
      ]
     },
     "metadata": {
      "needs_background": "light"
     },
     "output_type": "display_data"
    }
   ],
   "source": [
    "# Lets plot it now\n",
    "\n",
    "plt.figure(figsize=(10,5))\n",
    "sns.countplot(data=text,x='label')"
   ]
  },
  {
   "cell_type": "markdown",
   "id": "painful-working",
   "metadata": {},
   "source": [
    "#### As machine doesn't understand text, we need to convert text into numerical form, for doing this we have hell lot of ways but we will consider TF-IDF"
   ]
  },
  {
   "cell_type": "markdown",
   "id": "blocked-going",
   "metadata": {},
   "source": [
    "##### TF-IDF :  Term Frequency * Inverse Document Frequency \n",
    "##### The main idea behind this is, if a word W appears in the document A for many times and doesn't occur much in other documents in the corupus then the word ' W ' must be of great importance.\n",
    "##### Let's take an example to understand this, Assume a scenario where you are daily commuting from one bus stop to another bus stop and if all the buses take you to destination stop then you dont need to remember the bus numbers where as if only one bus travel to destination stop then you will remember that bus number, thats what TF-IDF do \n"
   ]
  },
  {
   "cell_type": "code",
   "execution_count": 54,
   "id": "amended-sitting",
   "metadata": {},
   "outputs": [],
   "source": [
    "from sklearn.feature_extraction.text import TfidfVectorizer"
   ]
  },
  {
   "cell_type": "code",
   "execution_count": 55,
   "id": "automated-macro",
   "metadata": {},
   "outputs": [],
   "source": [
    "# Lets create an object of the model \n",
    "\n",
    "tfidf=TfidfVectorizer()"
   ]
  },
  {
   "cell_type": "code",
   "execution_count": 56,
   "id": "seventh-somewhere",
   "metadata": {},
   "outputs": [],
   "source": [
    "# Let's fit and transform our data \n",
    "\n",
    "x=tfidf.fit_transform(text['message'])"
   ]
  },
  {
   "cell_type": "code",
   "execution_count": 57,
   "id": "regular-packet",
   "metadata": {},
   "outputs": [
    {
     "data": {
      "text/plain": [
       "(1306, 4314)"
      ]
     },
     "execution_count": 57,
     "metadata": {},
     "output_type": "execute_result"
    }
   ],
   "source": [
    "# Let's look at the shape of transformed data \n",
    "\n",
    "x.shape\n",
    "\n",
    "# Point to consider, output TD-IDF is a sparse matrix"
   ]
  },
  {
   "cell_type": "code",
   "execution_count": 62,
   "id": "pressing-joseph",
   "metadata": {},
   "outputs": [],
   "source": [
    "# Our text data is converted into Numeric, we have to split it into train and test\n",
    "\n",
    "X_train,X_test,y_train,y_test=train_test_split(x,text['label'],test_size=0.2,random_state=40,stratify=text['label'])"
   ]
  },
  {
   "cell_type": "code",
   "execution_count": 63,
   "id": "analyzed-diversity",
   "metadata": {},
   "outputs": [],
   "source": [
    "# Let's load our models \n",
    "\n",
    "from sklearn.ensemble import RandomForestClassifier\n",
    "from sklearn.svm import SVC"
   ]
  },
  {
   "cell_type": "code",
   "execution_count": 64,
   "id": "outstanding-lighting",
   "metadata": {},
   "outputs": [],
   "source": [
    "# Random Forest\n",
    "\n",
    "clf=RandomForestClassifier(n_estimators=100,n_jobs=-1,oob_score=True)\n",
    "\n",
    "# Here we are training model without any hyperparameter tuning"
   ]
  },
  {
   "cell_type": "code",
   "execution_count": 65,
   "id": "charming-administrator",
   "metadata": {},
   "outputs": [
    {
     "data": {
      "text/plain": [
       "RandomForestClassifier(n_jobs=-1, oob_score=True)"
      ]
     },
     "execution_count": 65,
     "metadata": {},
     "output_type": "execute_result"
    }
   ],
   "source": [
    "clf.fit(X_train, y_train)"
   ]
  },
  {
   "cell_type": "code",
   "execution_count": 66,
   "id": "cooked-eating",
   "metadata": {},
   "outputs": [],
   "source": [
    "y_pred = clf.predict(X_test)"
   ]
  },
  {
   "cell_type": "code",
   "execution_count": 67,
   "id": "exclusive-waste",
   "metadata": {},
   "outputs": [
    {
     "data": {
      "text/plain": [
       "array([[129,   2],\n",
       "       [ 14, 117]], dtype=int64)"
      ]
     },
     "execution_count": 67,
     "metadata": {},
     "output_type": "execute_result"
    }
   ],
   "source": [
    "confusion_matrix(y_test, y_pred)"
   ]
  },
  {
   "cell_type": "code",
   "execution_count": 68,
   "id": "solid-puppy",
   "metadata": {},
   "outputs": [
    {
     "name": "stdout",
     "output_type": "stream",
     "text": [
      "              precision    recall  f1-score   support\n",
      "\n",
      "         ham       0.90      0.98      0.94       131\n",
      "        spam       0.98      0.89      0.94       131\n",
      "\n",
      "    accuracy                           0.94       262\n",
      "   macro avg       0.94      0.94      0.94       262\n",
      "weighted avg       0.94      0.94      0.94       262\n",
      "\n"
     ]
    }
   ],
   "source": [
    "print(classification_report(y_test, y_pred))"
   ]
  },
  {
   "cell_type": "markdown",
   "id": "aware-wagon",
   "metadata": {},
   "source": [
    "# SVM "
   ]
  },
  {
   "cell_type": "code",
   "execution_count": 70,
   "id": "printable-uganda",
   "metadata": {},
   "outputs": [],
   "source": [
    "clf = SVC(C = 1000, gamma = 'auto')\n",
    "\n",
    "# Here c indicates flexibility "
   ]
  },
  {
   "cell_type": "code",
   "execution_count": 71,
   "id": "hydraulic-american",
   "metadata": {},
   "outputs": [
    {
     "data": {
      "text/plain": [
       "SVC(C=1000, gamma='auto')"
      ]
     },
     "execution_count": 71,
     "metadata": {},
     "output_type": "execute_result"
    }
   ],
   "source": [
    "clf.fit(X_train, y_train)"
   ]
  },
  {
   "cell_type": "code",
   "execution_count": 72,
   "id": "canadian-concern",
   "metadata": {},
   "outputs": [],
   "source": [
    "y_pred = clf.predict(X_test)"
   ]
  },
  {
   "cell_type": "code",
   "execution_count": 73,
   "id": "liable-botswana",
   "metadata": {},
   "outputs": [
    {
     "data": {
      "text/plain": [
       "array([[131,   0],\n",
       "       [  9, 122]], dtype=int64)"
      ]
     },
     "execution_count": 73,
     "metadata": {},
     "output_type": "execute_result"
    }
   ],
   "source": [
    "confusion_matrix(y_test, y_pred)"
   ]
  },
  {
   "cell_type": "code",
   "execution_count": 74,
   "id": "alleged-booth",
   "metadata": {},
   "outputs": [
    {
     "name": "stdout",
     "output_type": "stream",
     "text": [
      "              precision    recall  f1-score   support\n",
      "\n",
      "         ham       0.94      1.00      0.97       131\n",
      "        spam       1.00      0.93      0.96       131\n",
      "\n",
      "    accuracy                           0.97       262\n",
      "   macro avg       0.97      0.97      0.97       262\n",
      "weighted avg       0.97      0.97      0.97       262\n",
      "\n"
     ]
    }
   ],
   "source": [
    "print(classification_report(y_test, y_pred))"
   ]
  },
  {
   "cell_type": "markdown",
   "id": "floating-consortium",
   "metadata": {},
   "source": [
    "##### Didn't expect this, SVM is performing better than RandomForest but surely if we do hyper parameter tuning then RF will do better than this "
   ]
  },
  {
   "cell_type": "markdown",
   "id": "narrative-dining",
   "metadata": {},
   "source": [
    "## Note : The purpose of this notebook is to show how we can make a spam classifier with simple models "
   ]
  },
  {
   "cell_type": "code",
   "execution_count": null,
   "id": "novel-billy",
   "metadata": {},
   "outputs": [],
   "source": []
  }
 ],
 "metadata": {
  "kernelspec": {
   "display_name": "Python 3",
   "language": "python",
   "name": "python3"
  },
  "language_info": {
   "codemirror_mode": {
    "name": "ipython",
    "version": 3
   },
   "file_extension": ".py",
   "mimetype": "text/x-python",
   "name": "python",
   "nbconvert_exporter": "python",
   "pygments_lexer": "ipython3",
   "version": "3.7.3"
  }
 },
 "nbformat": 4,
 "nbformat_minor": 5
}
